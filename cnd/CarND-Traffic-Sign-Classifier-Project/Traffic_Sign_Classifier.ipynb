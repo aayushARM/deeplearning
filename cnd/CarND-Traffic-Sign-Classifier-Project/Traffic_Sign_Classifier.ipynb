{
 "cells": [
  {
   "cell_type": "markdown",
   "metadata": {
    "deletable": true,
    "editable": true
   },
   "source": [
    "# Self-Driving Car Engineer Nanodegree\n",
    "\n",
    "## Deep Learning\n",
    "\n",
    "## Project: Build a Traffic Sign Recognition Classifier\n",
    "\n",
    "In this notebook, a template is provided for you to implement your functionality in stages, which is required to successfully complete this project. If additional code is required that cannot be included in the notebook, be sure that the Python code is successfully imported and included in your submission if necessary. \n",
    "\n",
    "> **Note**: Once you have completed all of the code implementations, you need to finalize your work by exporting the iPython Notebook as an HTML document. Before exporting the notebook to html, all of the code cells need to have been run so that reviewers can see the final implementation and output. You can then export the notebook by using the menu above and navigating to  \\n\",\n",
    "    \"**File -> Download as -> HTML (.html)**. Include the finished document along with this notebook as your submission. \n",
    "\n",
    "In addition to implementing code, there is a writeup to complete. The writeup should be completed in a separate file, which can be either a markdown file or a pdf document. There is a [write up template](https://github.com/udacity/CarND-Traffic-Sign-Classifier-Project/blob/master/writeup_template.md) that can be used to guide the writing process. Completing the code template and writeup template will cover all of the [rubric points](https://review.udacity.com/#!/rubrics/481/view) for this project.\n",
    "\n",
    "The [rubric](https://review.udacity.com/#!/rubrics/481/view) contains \"Stand Out Suggestions\" for enhancing the project beyond the minimum requirements. The stand out suggestions are optional. If you decide to pursue the \"stand out suggestions\", you can include the code in this Ipython notebook and also discuss the results in the writeup file.\n",
    "\n",
    "\n",
    ">**Note:** Code and Markdown cells can be executed using the **Shift + Enter** keyboard shortcut. In addition, Markdown cells can be edited by typically double-clicking the cell to enter edit mode."
   ]
  },
  {
   "cell_type": "markdown",
   "metadata": {
    "deletable": true,
    "editable": true
   },
   "source": [
    "---\n",
    "## Step 0: Load The Data"
   ]
  },
  {
   "cell_type": "code",
   "execution_count": 32,
   "metadata": {
    "collapsed": false,
    "deletable": true,
    "editable": true
   },
   "outputs": [],
   "source": [
    "# Load pickled data\n",
    "import pickle\n",
    "\n",
    "# TODO: Fill this in based on where you saved the training and testing data\n",
    "\n",
    "DIR = \"data/traffic-signs-data/\"\n",
    "training_file = DIR + \"train.p\"\n",
    "validation_file= DIR + \"valid.p\"\n",
    "testing_file =  DIR + \"test.p\"\n",
    "\n",
    "with open(training_file, mode='rb') as f:\n",
    "    train = pickle.load(f)\n",
    "with open(validation_file, mode='rb') as f:\n",
    "    valid = pickle.load(f)\n",
    "with open(testing_file, mode='rb') as f:\n",
    "    test = pickle.load(f)\n",
    "    \n",
    "X_train, y_train = train['features'], train['labels']\n",
    "X_valid, y_valid = valid['features'], valid['labels']\n",
    "X_test, y_test = test['features'], test['labels']"
   ]
  },
  {
   "cell_type": "code",
   "execution_count": 33,
   "metadata": {
    "collapsed": false,
    "deletable": true,
    "editable": true
   },
   "outputs": [
    {
     "name": "stdout",
     "output_type": "stream",
     "text": [
      "Train:(34799, 32, 32, 3)\n",
      "Valid:(4410, 32, 32, 3)\n",
      "Test: (12630, 32, 32, 3)\n",
      "Label:(34799,)\n"
     ]
    }
   ],
   "source": [
    "print (\"Train:\" + str(X_train.shape))\n",
    "print (\"Valid:\" + str(X_valid.shape))\n",
    "print (\"Test: \" +  str(X_test.shape))\n",
    "print (\"Label:\" + str(y_train.shape))"
   ]
  },
  {
   "cell_type": "code",
   "execution_count": null,
   "metadata": {
    "collapsed": false,
    "deletable": true,
    "editable": true
   },
   "outputs": [],
   "source": []
  },
  {
   "cell_type": "markdown",
   "metadata": {
    "deletable": true,
    "editable": true
   },
   "source": [
    "---\n",
    "\n",
    "## Step 1: Dataset Summary & Exploration\n",
    "\n",
    "The pickled data is a dictionary with 4 key/value pairs:\n",
    "\n",
    "- `'features'` is a 4D array containing raw pixel data of the traffic sign images, (num examples, width, height, channels).\n",
    "- `'labels'` is a 1D array containing the label/class id of the traffic sign. The file `signnames.csv` contains id -> name mappings for each id.\n",
    "- `'sizes'` is a list containing tuples, (width, height) representing the original width and height the image.\n",
    "- `'coords'` is a list containing tuples, (x1, y1, x2, y2) representing coordinates of a bounding box around the sign in the image. **THESE COORDINATES ASSUME THE ORIGINAL IMAGE. THE PICKLED DATA CONTAINS RESIZED VERSIONS (32 by 32) OF THESE IMAGES**\n",
    "\n",
    "Complete the basic data summary below. Use python, numpy and/or pandas methods to calculate the data summary rather than hard coding the results. For example, the [pandas shape method](http://pandas.pydata.org/pandas-docs/stable/generated/pandas.DataFrame.shape.html) might be useful for calculating some of the summary results. "
   ]
  },
  {
   "cell_type": "markdown",
   "metadata": {
    "deletable": true,
    "editable": true
   },
   "source": [
    "### Provide a Basic Summary of the Data Set Using Python, Numpy and/or Pandas"
   ]
  },
  {
   "cell_type": "code",
   "execution_count": 34,
   "metadata": {
    "collapsed": false,
    "deletable": true,
    "editable": true
   },
   "outputs": [
    {
     "name": "stdout",
     "output_type": "stream",
     "text": [
      "Number of training examples = 34799\n",
      "Number of testing examples = 12630\n",
      "Image data shape = (32, 32, 3)\n",
      "Number of classes = 43\n"
     ]
    }
   ],
   "source": [
    "### Replace each question mark with the appropriate value. \n",
    "### Use python, pandas or numpy methods rather than hard coding the results\n",
    "\n",
    "# TODO: Number of training examples\n",
    "n_train = X_train.shape[0]\n",
    "\n",
    "# TODO: Number of testing examples.\n",
    "n_test = X_test.shape[0]\n",
    "\n",
    "# TODO: What's the shape of an traffic sign image?\n",
    "image_shape = X_train.shape[1:]\n",
    "\n",
    "# TODO: How many unique classes/labels there are in the dataset.\n",
    "n_classes = len(set(y_train))\n",
    "\n",
    "print(\"Number of training examples =\", n_train)\n",
    "print(\"Number of testing examples =\", n_test)\n",
    "print(\"Image data shape =\", image_shape)\n",
    "print(\"Number of classes =\", n_classes)"
   ]
  },
  {
   "cell_type": "markdown",
   "metadata": {
    "deletable": true,
    "editable": true
   },
   "source": [
    "### Include an exploratory visualization of the dataset"
   ]
  },
  {
   "cell_type": "markdown",
   "metadata": {
    "deletable": true,
    "editable": true
   },
   "source": [
    "Visualize the German Traffic Signs Dataset using the pickled file(s). This is open ended, suggestions include: plotting traffic sign images, plotting the count of each sign, etc.\n",
    "\n",
    "The [Matplotlib](http://matplotlib.org/) [examples](http://matplotlib.org/examples/index.html) and [gallery](http://matplotlib.org/gallery.html) pages are a great resource for doing visualizations in Python.\n",
    "\n",
    "**NOTE:** It's recommended you start with something simple first. If you wish to do more, come back to it after you've completed the rest of the sections."
   ]
  },
  {
   "cell_type": "code",
   "execution_count": 35,
   "metadata": {
    "collapsed": true,
    "deletable": true,
    "editable": true
   },
   "outputs": [],
   "source": [
    "import numpy as np\n",
    "import pandas as pd"
   ]
  },
  {
   "cell_type": "code",
   "execution_count": 36,
   "metadata": {
    "collapsed": false,
    "deletable": true,
    "editable": true
   },
   "outputs": [],
   "source": [
    "signs = pd.read_csv(\"signnames.csv\")"
   ]
  },
  {
   "cell_type": "code",
   "execution_count": 37,
   "metadata": {
    "collapsed": false,
    "deletable": true,
    "editable": true
   },
   "outputs": [],
   "source": [
    "id_to_class_name = {}\n",
    "for class_id in signs[\"ClassId\"].values:\n",
    "    name= signs[signs[\"ClassId\"] == class_id]\n",
    "    id_to_class_name[class_id] = (name[\"SignName\"].values[0])"
   ]
  },
  {
   "cell_type": "code",
   "execution_count": 38,
   "metadata": {
    "collapsed": false,
    "deletable": true,
    "editable": true
   },
   "outputs": [
    {
     "data": {
      "text/plain": [
       "{0: 'Speed limit (20km/h)',\n",
       " 1: 'Speed limit (30km/h)',\n",
       " 2: 'Speed limit (50km/h)',\n",
       " 3: 'Speed limit (60km/h)',\n",
       " 4: 'Speed limit (70km/h)',\n",
       " 5: 'Speed limit (80km/h)',\n",
       " 6: 'End of speed limit (80km/h)',\n",
       " 7: 'Speed limit (100km/h)',\n",
       " 8: 'Speed limit (120km/h)',\n",
       " 9: 'No passing',\n",
       " 10: 'No passing for vehicles over 3.5 metric tons',\n",
       " 11: 'Right-of-way at the next intersection',\n",
       " 12: 'Priority road',\n",
       " 13: 'Yield',\n",
       " 14: 'Stop',\n",
       " 15: 'No vehicles',\n",
       " 16: 'Vehicles over 3.5 metric tons prohibited',\n",
       " 17: 'No entry',\n",
       " 18: 'General caution',\n",
       " 19: 'Dangerous curve to the left',\n",
       " 20: 'Dangerous curve to the right',\n",
       " 21: 'Double curve',\n",
       " 22: 'Bumpy road',\n",
       " 23: 'Slippery road',\n",
       " 24: 'Road narrows on the right',\n",
       " 25: 'Road work',\n",
       " 26: 'Traffic signals',\n",
       " 27: 'Pedestrians',\n",
       " 28: 'Children crossing',\n",
       " 29: 'Bicycles crossing',\n",
       " 30: 'Beware of ice/snow',\n",
       " 31: 'Wild animals crossing',\n",
       " 32: 'End of all speed and passing limits',\n",
       " 33: 'Turn right ahead',\n",
       " 34: 'Turn left ahead',\n",
       " 35: 'Ahead only',\n",
       " 36: 'Go straight or right',\n",
       " 37: 'Go straight or left',\n",
       " 38: 'Keep right',\n",
       " 39: 'Keep left',\n",
       " 40: 'Roundabout mandatory',\n",
       " 41: 'End of no passing',\n",
       " 42: 'End of no passing by vehicles over 3.5 metric tons'}"
      ]
     },
     "execution_count": 38,
     "metadata": {},
     "output_type": "execute_result"
    }
   ],
   "source": [
    "id_to_class_name"
   ]
  },
  {
   "cell_type": "code",
   "execution_count": 39,
   "metadata": {
    "collapsed": true,
    "deletable": true,
    "editable": true
   },
   "outputs": [],
   "source": [
    "### Data exploration visualization code goes here.\n",
    "### Feel free to use as many code cells as needed.\n",
    "import matplotlib.pyplot as plt\n",
    "# Visualizations will be shown in the notebook.\n",
    "%matplotlib inline"
   ]
  },
  {
   "cell_type": "markdown",
   "metadata": {
    "deletable": true,
    "editable": true
   },
   "source": [
    "## Plot random images "
   ]
  },
  {
   "cell_type": "code",
   "execution_count": 40,
   "metadata": {
    "collapsed": false,
    "deletable": true,
    "editable": true
   },
   "outputs": [
    {
     "data": {
      "image/png": "[encoded data removed]",
      "text/plain": [
       "<matplotlib.figure.Figure at 0x1126c57f0>"
      ]
     },
     "metadata": {},
     "output_type": "display_data"
    }
   ],
   "source": [
    "number_of_class_to_plot = 6\n",
    "number_of_images_per_class = 5\n",
    "\n",
    "class_indxs = list(set(y_train))\n",
    "class_to_plot = np.random.choice(class_indxs, number_of_class_to_plot, replace=False)\n",
    "fig, ax = plt.subplots(figsize=(12,12))\n",
    "\n",
    "for y, cls in enumerate(class_to_plot):\n",
    "    idx = np.flatnonzero(y_train == cls)\n",
    "    idx = np.random.choice(idx, number_of_images_per_class, replace=False)\n",
    "    for i, idx in enumerate(idx):\n",
    "        plt_idx = i * number_of_class_to_plot + y + 1\n",
    "        plt.subplot(number_of_images_per_class + 1, number_of_class_to_plot, plt_idx)\n",
    "        plt.imshow(X_train[idx].astype('uint8'))\n",
    "        plt.axis('off')\n",
    "        if i == 0:\n",
    "            plt.title(class_indxs[cls])\n",
    "#             plt.title(id_to_class_name[cls])\n",
    "    plt_idx = (i + 1) * number_of_class_to_plot + y + 1\n",
    "    plt.subplot(number_of_images_per_class + 1, number_of_class_to_plot, plt_idx)\n",
    "    mean_image = np.mean(X_train[np.flatnonzero(y_train == cls)], axis=0)\n",
    "    \n",
    "    plt.imshow(mean_image.astype('uint8'))\n",
    "\n",
    "# plt.tight_layout()\n",
    "plt.show()"
   ]
  },
  {
   "cell_type": "markdown",
   "metadata": {
    "deletable": true,
    "editable": true
   },
   "source": [
    "## Number of examples per class"
   ]
  },
  {
   "cell_type": "code",
   "execution_count": 41,
   "metadata": {
    "collapsed": false,
    "deletable": true,
    "editable": true
   },
   "outputs": [
    {
     "data": {
      "text/plain": [
       "<matplotlib.axes._subplots.AxesSubplot at 0x1133aec50>"
      ]
     },
     "execution_count": 41,
     "metadata": {},
     "output_type": "execute_result"
    },
    {
     "data": {
      "image/png": "[encoded data removed]",
      "text/plain": [
       "<matplotlib.figure.Figure at 0x1126ce400>"
      ]
     },
     "metadata": {},
     "output_type": "display_data"
    }
   ],
   "source": [
    "train_series = pd.Series(y_train)\n",
    "train_series.value_counts(sort=False).plot(kind='bar')"
   ]
  },
  {
   "cell_type": "markdown",
   "metadata": {
    "deletable": true,
    "editable": true
   },
   "source": [
    "----\n",
    "\n",
    "## Step 2: Design and Test a Model Architecture\n",
    "\n",
    "Design and implement a deep learning model that learns to recognize traffic signs. Train and test your model on the [German Traffic Sign Dataset](http://benchmark.ini.rub.de/?section=gtsrb&subsection=dataset).\n",
    "\n",
    "The LeNet-5 implementation shown in the [classroom](https://classroom.udacity.com/nanodegrees/nd013/parts/fbf77062-5703-404e-b60c-95b78b2f3f9e/modules/6df7ae49-c61c-4bb2-a23e-6527e69209ec/lessons/601ae704-1035-4287-8b11-e2c2716217ad/concepts/d4aca031-508f-4e0b-b493-e7b706120f81) at the end of the CNN lesson is a solid starting point. You'll have to change the number of classes and possibly the preprocessing, but aside from that it's plug and play! \n",
    "\n",
    "With the LeNet-5 solution from the lecture, you should expect a validation set accuracy of about 0.89. To meet specifications, the validation set accuracy will need to be at least 0.93. It is possible to get an even higher accuracy, but 0.93 is the minimum for a successful project submission. \n",
    "\n",
    "There are various aspects to consider when thinking about this problem:\n",
    "\n",
    "- Neural network architecture (is the network over or underfitting?)\n",
    "- Play around preprocessing techniques (normalization, rgb to grayscale, etc)\n",
    "- Number of examples per label (some have more than others).\n",
    "- Generate fake data.\n",
    "\n",
    "Here is an example of a [published baseline model on this problem](http://yann.lecun.com/exdb/publis/pdf/sermanet-ijcnn-11.pdf). It's not required to be familiar with the approach used in the paper but, it's good practice to try to read papers like these."
   ]
  },
  {
   "cell_type": "markdown",
   "metadata": {
    "deletable": true,
    "editable": true
   },
   "source": [
    "### Pre-process the Data Set (normalization, grayscale, etc.)"
   ]
  },
  {
   "cell_type": "markdown",
   "metadata": {
    "deletable": true,
    "editable": true
   },
   "source": [
    "Use the code cell (or multiple code cells, if necessary) to implement the first step of your project."
   ]
  },
  {
   "cell_type": "code",
   "execution_count": 42,
   "metadata": {
    "collapsed": false,
    "deletable": true,
    "editable": true
   },
   "outputs": [
    {
     "name": "stdout",
     "output_type": "stream",
     "text": [
      "<class 'numpy.uint8'>\n",
      "<class 'numpy.float64'>\n"
     ]
    }
   ],
   "source": [
    "### Preprocess the data here. Preprocessing steps could include normalization, converting to grayscale, etc.\n",
    "### Feel free to use as many code cells as needed.\n",
    "def convert_to_float(image):\n",
    "    float_image = np.reshape(image, (image.shape[0], -1)).astype(\"float\")\n",
    "    return np.reshape(float_image, (image.shape))\n",
    "\n",
    "print (type(X_train[0][0][0][0]))\n",
    "X_train = convert_to_float(X_train)\n",
    "X_valid = convert_to_float(X_valid)\n",
    "X_test = convert_to_float(X_test)\n",
    "print (type(X_train[0][0][0][0]))\n"
   ]
  },
  {
   "cell_type": "markdown",
   "metadata": {
    "deletable": true,
    "editable": true
   },
   "source": [
    "## Find the mean image"
   ]
  },
  {
   "cell_type": "code",
   "execution_count": 12,
   "metadata": {
    "collapsed": false,
    "deletable": true,
    "editable": true
   },
   "outputs": [
    {
     "data": {
      "image/png": "[encoded data removed]",
      "text/plain": [
       "<matplotlib.figure.Figure at 0x129b8ad68>"
      ]
     },
     "metadata": {},
     "output_type": "display_data"
    },
    {
     "name": "stdout",
     "output_type": "stream",
     "text": [
      "(32, 32, 3)\n"
     ]
    }
   ],
   "source": [
    "is_mean_image_true = False\n",
    "\n",
    "# taken from https://github.com/kapild/deeplearning/blob/master/cs231n_cov_nets/assignment1/svm.ipynb\n",
    "mean_image = np.mean(X_train, axis=0)\n",
    "plt.figure(figsize=(4,4))\n",
    "plt.imshow(mean_image.astype('uint8')) # visualize the mean image\n",
    "plt.show()\n",
    "\n",
    "print (mean_image.shape)\n"
   ]
  },
  {
   "cell_type": "markdown",
   "metadata": {
    "deletable": true,
    "editable": true
   },
   "source": [
    "## Subtract mean image from the data"
   ]
  },
  {
   "cell_type": "code",
   "execution_count": 13,
   "metadata": {
    "collapsed": false,
    "deletable": true,
    "editable": true
   },
   "outputs": [
    {
     "name": "stdout",
     "output_type": "stream",
     "text": [
      "Training data shape:  (34799, 32, 32, 3)\n",
      "Validation data shape:  (4410, 32, 32, 3)\n",
      "Test data shape:  (12630, 32, 32, 3)\n"
     ]
    }
   ],
   "source": [
    "import pdb\n",
    "def pre_process_image(X_train, X_valid, X_test, mean_image, is_mean_image_true):\n",
    "    if is_mean_image_true:\n",
    "        X_train -= mean_image\n",
    "        X_valid -= mean_image\n",
    "        X_test -= mean_image\n",
    "    return X_train, X_valid, X_test\n",
    "\n",
    "\n",
    "X_train, X_valid, X_test = pre_process_image(X_train, X_valid, X_test, mean_image, is_mean_image_true)\n",
    "# As a sanity check, print out the shapes of the data\n",
    "print ('Training data shape: ', X_train.shape)\n",
    "print ('Validation data shape: ', X_valid.shape)\n",
    "print ('Test data shape: ', X_test.shape)\n"
   ]
  },
  {
   "cell_type": "code",
   "execution_count": 15,
   "metadata": {
    "collapsed": true
   },
   "outputs": [],
   "source": [
    "def normalize_grayscale(image_data):\n",
    "    \"\"\"\n",
    "    Normalize the image data with Min-Max scaling to a range of [0.1, 0.9]\n",
    "    :param image_data: The image data to be normalized\n",
    "    :return: Normalized image data\n",
    "    \"\"\"\n",
    "    a = 0.1\n",
    "    b = 0.9\n",
    "    grayscale_min = 0\n",
    "    grayscale_max = 255\n",
    "    return a + ( ( (image_data - grayscale_min)*(b - a) )/( grayscale_max - grayscale_min ) )"
   ]
  },
  {
   "cell_type": "code",
   "execution_count": 19,
   "metadata": {
    "collapsed": false
   },
   "outputs": [],
   "source": [
    "X_train = normalize_grayscale(X_train)\n",
    "X_valid = normalize_grayscale(X_valid)\n",
    "X_test = normalize_grayscale(X_test)\n"
   ]
  },
  {
   "cell_type": "code",
   "execution_count": 43,
   "metadata": {
    "collapsed": true,
    "deletable": true,
    "editable": true
   },
   "outputs": [],
   "source": [
    "from sklearn.utils import shuffle\n",
    "\n",
    "X_train, y_train = shuffle(X_train, y_train)"
   ]
  },
  {
   "cell_type": "markdown",
   "metadata": {
    "deletable": true,
    "editable": true
   },
   "source": [
    "### Model Architecture"
   ]
  },
  {
   "cell_type": "code",
   "execution_count": null,
   "metadata": {
    "collapsed": true
   },
   "outputs": [],
   "source": []
  },
  {
   "cell_type": "code",
   "execution_count": 44,
   "metadata": {
    "collapsed": true,
    "deletable": true,
    "editable": true
   },
   "outputs": [],
   "source": [
    "import tensorflow as tf"
   ]
  },
  {
   "cell_type": "code",
   "execution_count": 45,
   "metadata": {
    "collapsed": false,
    "deletable": true,
    "editable": true
   },
   "outputs": [],
   "source": [
    "### Define your architecture here.\n",
    "### Feel free to use as many code cells as needed.\n",
    "import tensorflow as tf\n",
    "\n",
    "EPOCHS = 15\n",
    "BATCH_SIZE = 256"
   ]
  },
  {
   "cell_type": "code",
   "execution_count": 46,
   "metadata": {
    "collapsed": true,
    "deletable": true,
    "editable": true
   },
   "outputs": [],
   "source": [
    "# import tensorflow as tf\n",
    "# from tensorflow.contrib.layers import flatten\n",
    "\n",
    "# def LeNet(x):    \n",
    "#     # Arguments used for tf.truncated_normal, randomly defines variables for the weights and biases for each layer\n",
    "#     mu = 0\n",
    "#     sigma = 0.1\n",
    "#     # TODO: Layer 1: Convolutional. Input = 32x32x3. Output = 28x28x6.\n",
    "#     filter_size_layer_1 = 5\n",
    "#     channels = 3\n",
    "#     num_filters = 6\n",
    "#     weights_layer_1 = tf.Variable(tf.truncated_normal(shape=(filter_size_layer_1, filter_size_layer_1, channels,\n",
    "#                                                      num_filters), mean = mu, stddev = sigma))\n",
    "#     base_layer_1 = tf.Variable(tf.zeros(num_filters))\n",
    "#     conv1   = tf.nn.conv2d(x, weights_layer_1, strides=[1, 1, 1, 1], padding='VALID') + base_layer_1\n",
    "    \n",
    "#     # TODO: Activation.\n",
    "#     relu_1 = tf.nn.relu(conv1)\n",
    "\n",
    "#     # TODO: Pooling. Input = 28x28x6. Output = 14x14x6.\n",
    "#     # strides = 2, filter size = 2\n",
    "#     layer_1_out = tf.nn.max_pool(relu_1, ksize=[1, 2, 2, 1], strides=[1, 2, 2, 1], padding='VALID')\n",
    "\n",
    "#     # TODO: Layer 2: Convolutional. Output = 10x10x16.\n",
    "#     weights_layer_2 = tf.Variable(tf.truncated_normal(shape=(5, 5, 6, 16), mean = mu, stddev = sigma))\n",
    "#     base_layer_2 = tf.Variable(tf.zeros(16))\n",
    "#     conv2   = tf.nn.conv2d(layer_1_out, weights_layer_2, strides=[1, 1, 1, 1], padding='VALID') + base_layer_2\n",
    "    \n",
    "#     # TODO: Activation.\n",
    "#     relu_2 = tf.nn.relu(conv2)\n",
    "\n",
    "#     # TODO: Pooling. Input = 10x10x16. Output = 5x5x16.\n",
    "#     layer_1_out = tf.nn.max_pool(relu_2, ksize=[1, 2, 2, 1], strides=[1, 2, 2, 1], padding='VALID')\n",
    "\n",
    "#     # TODO: Flatten. Input = 5x5x16. Output = 400.\n",
    "#     fc0   = flatten(layer_1_out)\n",
    "\n",
    "#     # TODO: Layer 3: Fully Connected. Input = 400. Output = 120.\n",
    "#     weights_layer_fc0 = tf.Variable(tf.truncated_normal(shape=(400, 120), mean = mu, stddev = sigma))\n",
    "#     base_layer_fc0 = tf.Variable(tf.zeros(120))\n",
    "#     fc1 = tf.matmul(fc0, weights_layer_fc0) + base_layer_fc0\n",
    "    \n",
    "#     # TODO: Activation.\n",
    "#     fc1_relu = tf.nn.relu(fc1)\n",
    "\n",
    "#     # TODO: Layer 4: Fully Connected. Input = 120. Output = 84.\n",
    "#     weights_layer_fc1 = tf.Variable(tf.truncated_normal(shape=(120, 84), mean = mu, stddev = sigma))\n",
    "#     base_layer_fc1 = tf.Variable(tf.zeros(84))\n",
    "#     fc2 = tf.matmul(fc1_relu, weights_layer_fc1) + base_layer_fc1\n",
    "    \n",
    "#     # TODO: Activation.\n",
    "#     fc2_relu = tf.nn.relu(fc2)\n",
    "\n",
    "#     # TODO: Layer 5: Fully Connected. Input = 84. Output = n_classes.\n",
    "#     weights_layer_fc2 = tf.Variable(tf.truncated_normal(shape=(84,n_classes), mean = mu, stddev = sigma))\n",
    "#     base_layer_fc2 = tf.Variable(tf.zeros(n_classes))\n",
    "#     logits = tf.matmul(fc2_relu, weights_layer_fc2) + base_layer_fc2\n",
    "    \n",
    "#     return logits, weights_layer_1, weights_layer_2, weights_layer_fc0, weights_layer_fc1,\\\n",
    "#         weights_layer_fc2\n",
    "\n"
   ]
  },
  {
   "cell_type": "code",
   "execution_count": 47,
   "metadata": {
    "collapsed": true,
    "deletable": true,
    "editable": true
   },
   "outputs": [],
   "source": [
    "import tensorflow as tf\n",
    "from tensorflow.contrib.layers import flatten\n",
    "\n",
    "index  = 0 \n",
    "def LeNetWithXavier(x):    \n",
    "    # Arguments used for tf.truncated_normal, randomly defines variables for the weights and biases for each layer\n",
    "    mu = 0\n",
    "    sigma = 0.1\n",
    "    # TODO: Layer 1: Convolutional. Input = 32x32x3. Output = 28x28x6.\n",
    "    filter_size_layer_1 = 5\n",
    "    channels = 3\n",
    "    num_filters = 6\n",
    "    global index \n",
    "    weights_layer_1 = tf.get_variable('weights_layer_13' + str(index +1), \n",
    "                               shape=[filter_size_layer_1, filter_size_layer_1, channels, num_filters], \n",
    "                               initializer=tf.contrib.layers.xavier_initializer())    \n",
    "    \n",
    "    base_layer_1 = tf.Variable(tf.zeros(num_filters))\n",
    "    conv1   = tf.nn.conv2d(x, weights_layer_1, strides=[1, 1, 1, 1], padding='VALID') + base_layer_1\n",
    "    \n",
    "    # TODO: Activation.\n",
    "    relu_1 = tf.nn.relu(conv1)\n",
    "\n",
    "    # TODO: Pooling. Input = 28x28x6. Output = 14x14x6.\n",
    "    # strides = 2, filter size = 2\n",
    "    layer_1_out = tf.nn.max_pool(relu_1, ksize=[1, 2, 2, 1], strides=[1, 2, 2, 1], padding='VALID')\n",
    "\n",
    "    # TODO: Layer 2: Convolutional. Output = 10x10x16.\n",
    "    weights_layer_2 = tf.get_variable('weights_layer_22'+ str(index +1), \n",
    "                               shape=[5, 5, 6, 16], \n",
    "                               initializer=tf.contrib.layers.xavier_initializer())    \n",
    "    base_layer_2 = tf.Variable(tf.zeros(16))\n",
    "    conv2   = tf.nn.conv2d(layer_1_out, weights_layer_2, strides=[1, 1, 1, 1], padding='VALID') + base_layer_2\n",
    "    \n",
    "    # TODO: Activation.\n",
    "    relu_2 = tf.nn.relu(conv2)\n",
    "\n",
    "    # TODO: Pooling. Input = 10x10x16. Output = 5x5x16.\n",
    "    layer_1_out = tf.nn.max_pool(relu_2, ksize=[1, 2, 2, 1], strides=[1, 2, 2, 1], padding='VALID')\n",
    "\n",
    "    # TODO: Flatten. Input = 5x5x16. Output = 400.\n",
    "    fc0   = flatten(layer_1_out)\n",
    "\n",
    "    # TODO: Layer 3: Fully Connected. Input = 400. Output = 256.\n",
    "    weights_layer_fc0 = tf.get_variable('weights_layer_fc0_2'+ str(index +1), \n",
    "                               shape=[400, 256], \n",
    "                               initializer=tf.contrib.layers.xavier_initializer())    \n",
    "    \n",
    "    base_layer_fc0 = tf.Variable(tf.zeros(256))\n",
    "    fc1 = tf.matmul(fc0, weights_layer_fc0) + base_layer_fc0\n",
    "    \n",
    "    # TODO: Activation.\n",
    "    fc1_relu = tf.nn.relu(fc1)\n",
    "\n",
    "    # TODO: Layer 4: Fully Connected. Input = 256. Output = 128.\n",
    "    weights_layer_fc1 = tf.get_variable('weights_layer_fc1_2'+ str(index +1), \n",
    "                               shape=[256, 128], \n",
    "                               initializer=tf.contrib.layers.xavier_initializer())    \n",
    "    base_layer_fc1 = tf.Variable(tf.zeros(128))\n",
    "    fc2 = tf.matmul(fc1_relu, weights_layer_fc1) + base_layer_fc1\n",
    "    \n",
    "    # TODO: Activation.\n",
    "    fc2_relu = tf.nn.relu(fc2)\n",
    "\n",
    "    # TODO: Layer 5: Fully Connected. Input = 128. Output = 84.\n",
    "    weights_layer_fc2 = tf.get_variable('weights_layer_fc2_2'+ str(index +1), \n",
    "                               shape=[128, 84], \n",
    "                               initializer=tf.contrib.layers.xavier_initializer())    \n",
    "    base_layer_fc2 = tf.Variable(tf.zeros(84))\n",
    "    fc3 = tf.matmul(fc2_relu, weights_layer_fc2) + base_layer_fc2\n",
    "\n",
    "    fc3_relu = tf.nn.relu(fc3)\n",
    "\n",
    "    # TODO: Layer 5: Fully Connected. Input = 84. Output = n_classes.\n",
    "    weights_layer_fc3 = tf.get_variable('weights_layer_fc3_2'+ str(index +1), \n",
    "                               shape=[84, n_classes], \n",
    "                               initializer=tf.contrib.layers.xavier_initializer())    \n",
    "    base_layer_fc3 = tf.Variable(tf.zeros(n_classes))\n",
    "    logits = tf.matmul(fc3_relu, weights_layer_fc3) + base_layer_fc3\n",
    "\n",
    "    return logits, weights_layer_1, weights_layer_2, weights_layer_fc0, weights_layer_fc1,\\\n",
    "        weights_layer_fc2, weights_layer_fc3\n",
    "\n"
   ]
  },
  {
   "cell_type": "markdown",
   "metadata": {
    "deletable": true,
    "editable": true
   },
   "source": [
    "## Setup pipeline using LeNet"
   ]
  },
  {
   "cell_type": "code",
   "execution_count": 51,
   "metadata": {
    "collapsed": false,
    "deletable": true,
    "editable": true
   },
   "outputs": [],
   "source": [
    "x = tf.placeholder(tf.float32, (None, 32, 32, 3))\n",
    "y = tf.placeholder(tf.int32, (None))\n",
    "one_hot_y = tf.one_hot(y, n_classes)\n",
    "\n",
    "rate = 0.001\n",
    "beta = 0.01\n",
    "index += 1\n",
    "logits, weights_layer_1, weights_layer_2, weights_layer_fc0, weights_layer_fc1,\\\n",
    "        weights_layer_fc2, weights_layer_fc3 = LeNetWithXavier(x)\n",
    "cross_entropy = tf.nn.softmax_cross_entropy_with_logits(logits, one_hot_y)\n",
    "loss_operation = tf.reduce_mean(cross_entropy \n",
    "        + beta * tf.nn.l2_loss(weights_layer_1) + beta * tf.nn.l2_loss(weights_layer_2)\n",
    "        + beta * tf.nn.l2_loss(weights_layer_fc0) + beta * tf.nn.l2_loss(weights_layer_fc1) \n",
    "        + beta * tf.nn.l2_loss(weights_layer_fc2) + beta * tf.nn.l2_loss(weights_layer_fc3))\n",
    "optimizer = tf.train.AdamOptimizer(learning_rate = rate)\n",
    "training_operation = optimizer.minimize(loss_operation)\n",
    "\n",
    "correct_prediction = tf.equal(tf.argmax(logits, 1), tf.argmax(one_hot_y, 1))\n",
    "accuracy_operation = tf.reduce_mean(tf.cast(correct_prediction, tf.float32))\n",
    "saver = tf.train.Saver()\n",
    "\n",
    "def evaluate(X_data, y_data):\n",
    "    num_examples = len(X_data)\n",
    "    total_accuracy = 0\n",
    "    sess = tf.get_default_session()\n",
    "    for offset in range(0, num_examples, BATCH_SIZE):\n",
    "        batch_x, batch_y = X_data[offset:offset+BATCH_SIZE], y_data[offset:offset+BATCH_SIZE]\n",
    "        accuracy = sess.run(accuracy_operation, feed_dict={x: batch_x, y: batch_y})\n",
    "        total_accuracy += (accuracy * len(batch_x))\n",
    "    return total_accuracy / num_examples"
   ]
  },
  {
   "cell_type": "markdown",
   "metadata": {
    "deletable": true,
    "editable": true
   },
   "source": [
    "### Train, Validate and Test the Model"
   ]
  },
  {
   "cell_type": "markdown",
   "metadata": {
    "deletable": true,
    "editable": true
   },
   "source": [
    "A validation set can be used to assess how well the model is performing. A low accuracy on the training and validation\n",
    "sets imply underfitting. A high accuracy on the training set but low accuracy on the validation set implies overfitting."
   ]
  },
  {
   "cell_type": "code",
   "execution_count": 52,
   "metadata": {
    "collapsed": false,
    "deletable": true,
    "editable": true
   },
   "outputs": [
    {
     "name": "stdout",
     "output_type": "stream",
     "text": [
      "Training...\n",
      "\n",
      "EPOCH 1 ...\n",
      "Validation Accuracy = 0.723\n",
      "Validation Accuracy = 0.626\n",
      "\n",
      "EPOCH 2 ...\n",
      "Validation Accuracy = 0.900\n",
      "Validation Accuracy = 0.780\n",
      "\n",
      "EPOCH 3 ...\n",
      "Validation Accuracy = 0.924\n",
      "Validation Accuracy = 0.814\n",
      "\n",
      "EPOCH 4 ...\n",
      "Validation Accuracy = 0.957\n",
      "Validation Accuracy = 0.844\n",
      "\n",
      "EPOCH 5 ...\n",
      "Validation Accuracy = 0.967\n",
      "Validation Accuracy = 0.853\n",
      "\n",
      "EPOCH 6 ...\n",
      "Validation Accuracy = 0.970\n",
      "Validation Accuracy = 0.868\n",
      "\n",
      "EPOCH 7 ...\n",
      "Validation Accuracy = 0.979\n",
      "Validation Accuracy = 0.871\n",
      "\n",
      "EPOCH 8 ...\n",
      "Validation Accuracy = 0.979\n",
      "Validation Accuracy = 0.883\n",
      "\n",
      "EPOCH 9 ...\n",
      "Validation Accuracy = 0.984\n",
      "Validation Accuracy = 0.885\n",
      "\n",
      "EPOCH 10 ...\n",
      "Validation Accuracy = 0.979\n",
      "Validation Accuracy = 0.871\n",
      "\n",
      "EPOCH 11 ...\n",
      "Validation Accuracy = 0.978\n",
      "Validation Accuracy = 0.873\n",
      "\n",
      "EPOCH 12 ...\n",
      "Validation Accuracy = 0.984\n",
      "Validation Accuracy = 0.890\n",
      "\n",
      "EPOCH 13 ...\n",
      "Validation Accuracy = 0.978\n",
      "Validation Accuracy = 0.885\n",
      "\n",
      "EPOCH 14 ...\n",
      "Validation Accuracy = 0.986\n",
      "Validation Accuracy = 0.902\n",
      "\n",
      "EPOCH 15 ...\n",
      "Validation Accuracy = 0.986\n",
      "Validation Accuracy = 0.896\n",
      "\n",
      "EPOCH 16 ...\n",
      "Validation Accuracy = 0.980\n",
      "Validation Accuracy = 0.890\n",
      "\n",
      "EPOCH 17 ...\n",
      "Validation Accuracy = 0.985\n",
      "Validation Accuracy = 0.900\n",
      "\n",
      "EPOCH 18 ...\n",
      "Validation Accuracy = 0.983\n",
      "Validation Accuracy = 0.890\n",
      "\n",
      "EPOCH 19 ...\n",
      "Validation Accuracy = 0.990\n",
      "Validation Accuracy = 0.905\n",
      "\n",
      "EPOCH 20 ...\n",
      "Validation Accuracy = 0.993\n",
      "Validation Accuracy = 0.913\n",
      "\n",
      "EPOCH 21 ...\n",
      "Validation Accuracy = 0.988\n",
      "Validation Accuracy = 0.906\n",
      "\n",
      "EPOCH 22 ...\n",
      "Validation Accuracy = 0.978\n",
      "Validation Accuracy = 0.896\n",
      "\n"
     ]
    },
    {
     "ename": "KeyboardInterrupt",
     "evalue": "",
     "output_type": "error",
     "traceback": [
      "\u001b[0;31m---------------------------------------------------------------------------\u001b[0m",
      "\u001b[0;31mKeyboardInterrupt\u001b[0m                         Traceback (most recent call last)",
      "\u001b[0;32m<ipython-input-52-7040b23184e6>\u001b[0m in \u001b[0;36m<module>\u001b[0;34m()\u001b[0m\n\u001b[1;32m     17\u001b[0m             \u001b[0mend\u001b[0m \u001b[0;34m=\u001b[0m \u001b[0moffset\u001b[0m \u001b[0;34m+\u001b[0m \u001b[0mBATCH_SIZE\u001b[0m\u001b[0;34m\u001b[0m\u001b[0m\n\u001b[1;32m     18\u001b[0m             \u001b[0mbatch_x\u001b[0m\u001b[0;34m,\u001b[0m \u001b[0mbatch_y\u001b[0m \u001b[0;34m=\u001b[0m \u001b[0mX_train\u001b[0m\u001b[0;34m[\u001b[0m\u001b[0moffset\u001b[0m\u001b[0;34m:\u001b[0m\u001b[0mend\u001b[0m\u001b[0;34m]\u001b[0m\u001b[0;34m,\u001b[0m \u001b[0my_train\u001b[0m\u001b[0;34m[\u001b[0m\u001b[0moffset\u001b[0m\u001b[0;34m:\u001b[0m\u001b[0mend\u001b[0m\u001b[0;34m]\u001b[0m\u001b[0;34m\u001b[0m\u001b[0m\n\u001b[0;32m---> 19\u001b[0;31m             \u001b[0msess\u001b[0m\u001b[0;34m.\u001b[0m\u001b[0mrun\u001b[0m\u001b[0;34m(\u001b[0m\u001b[0mtraining_operation\u001b[0m\u001b[0;34m,\u001b[0m \u001b[0mfeed_dict\u001b[0m\u001b[0;34m=\u001b[0m\u001b[0;34m{\u001b[0m\u001b[0mx\u001b[0m\u001b[0;34m:\u001b[0m \u001b[0mbatch_x\u001b[0m\u001b[0;34m,\u001b[0m \u001b[0my\u001b[0m\u001b[0;34m:\u001b[0m \u001b[0mbatch_y\u001b[0m\u001b[0;34m}\u001b[0m\u001b[0;34m)\u001b[0m\u001b[0;34m\u001b[0m\u001b[0m\n\u001b[0m\u001b[1;32m     20\u001b[0m \u001b[0;34m\u001b[0m\u001b[0m\n\u001b[1;32m     21\u001b[0m         \u001b[0mtrain_accuracy\u001b[0m \u001b[0;34m=\u001b[0m \u001b[0mevaluate\u001b[0m\u001b[0;34m(\u001b[0m\u001b[0mX_train\u001b[0m\u001b[0;34m,\u001b[0m \u001b[0my_train\u001b[0m\u001b[0;34m)\u001b[0m\u001b[0;34m\u001b[0m\u001b[0m\n",
      "\u001b[0;32m/Users/kdalwani/miniconda3/envs/carnd/lib/python3.5/site-packages/tensorflow/python/client/session.py\u001b[0m in \u001b[0;36mrun\u001b[0;34m(self, fetches, feed_dict, options, run_metadata)\u001b[0m\n\u001b[1;32m    764\u001b[0m     \u001b[0;32mtry\u001b[0m\u001b[0;34m:\u001b[0m\u001b[0;34m\u001b[0m\u001b[0m\n\u001b[1;32m    765\u001b[0m       result = self._run(None, fetches, feed_dict, options_ptr,\n\u001b[0;32m--> 766\u001b[0;31m                          run_metadata_ptr)\n\u001b[0m\u001b[1;32m    767\u001b[0m       \u001b[0;32mif\u001b[0m \u001b[0mrun_metadata\u001b[0m\u001b[0;34m:\u001b[0m\u001b[0;34m\u001b[0m\u001b[0m\n\u001b[1;32m    768\u001b[0m         \u001b[0mproto_data\u001b[0m \u001b[0;34m=\u001b[0m \u001b[0mtf_session\u001b[0m\u001b[0;34m.\u001b[0m\u001b[0mTF_GetBuffer\u001b[0m\u001b[0;34m(\u001b[0m\u001b[0mrun_metadata_ptr\u001b[0m\u001b[0;34m)\u001b[0m\u001b[0;34m\u001b[0m\u001b[0m\n",
      "\u001b[0;32m/Users/kdalwani/miniconda3/envs/carnd/lib/python3.5/site-packages/tensorflow/python/client/session.py\u001b[0m in \u001b[0;36m_run\u001b[0;34m(self, handle, fetches, feed_dict, options, run_metadata)\u001b[0m\n\u001b[1;32m    962\u001b[0m     \u001b[0;32mif\u001b[0m \u001b[0mfinal_fetches\u001b[0m \u001b[0;32mor\u001b[0m \u001b[0mfinal_targets\u001b[0m\u001b[0;34m:\u001b[0m\u001b[0;34m\u001b[0m\u001b[0m\n\u001b[1;32m    963\u001b[0m       results = self._do_run(handle, final_targets, final_fetches,\n\u001b[0;32m--> 964\u001b[0;31m                              feed_dict_string, options, run_metadata)\n\u001b[0m\u001b[1;32m    965\u001b[0m     \u001b[0;32melse\u001b[0m\u001b[0;34m:\u001b[0m\u001b[0;34m\u001b[0m\u001b[0m\n\u001b[1;32m    966\u001b[0m       \u001b[0mresults\u001b[0m \u001b[0;34m=\u001b[0m \u001b[0;34m[\u001b[0m\u001b[0;34m]\u001b[0m\u001b[0;34m\u001b[0m\u001b[0m\n",
      "\u001b[0;32m/Users/kdalwani/miniconda3/envs/carnd/lib/python3.5/site-packages/tensorflow/python/client/session.py\u001b[0m in \u001b[0;36m_do_run\u001b[0;34m(self, handle, target_list, fetch_list, feed_dict, options, run_metadata)\u001b[0m\n\u001b[1;32m   1012\u001b[0m     \u001b[0;32mif\u001b[0m \u001b[0mhandle\u001b[0m \u001b[0;32mis\u001b[0m \u001b[0;32mNone\u001b[0m\u001b[0;34m:\u001b[0m\u001b[0;34m\u001b[0m\u001b[0m\n\u001b[1;32m   1013\u001b[0m       return self._do_call(_run_fn, self._session, feed_dict, fetch_list,\n\u001b[0;32m-> 1014\u001b[0;31m                            target_list, options, run_metadata)\n\u001b[0m\u001b[1;32m   1015\u001b[0m     \u001b[0;32melse\u001b[0m\u001b[0;34m:\u001b[0m\u001b[0;34m\u001b[0m\u001b[0m\n\u001b[1;32m   1016\u001b[0m       return self._do_call(_prun_fn, self._session, handle, feed_dict,\n",
      "\u001b[0;32m/Users/kdalwani/miniconda3/envs/carnd/lib/python3.5/site-packages/tensorflow/python/client/session.py\u001b[0m in \u001b[0;36m_do_call\u001b[0;34m(self, fn, *args)\u001b[0m\n\u001b[1;32m   1019\u001b[0m   \u001b[0;32mdef\u001b[0m \u001b[0m_do_call\u001b[0m\u001b[0;34m(\u001b[0m\u001b[0mself\u001b[0m\u001b[0;34m,\u001b[0m \u001b[0mfn\u001b[0m\u001b[0;34m,\u001b[0m \u001b[0;34m*\u001b[0m\u001b[0margs\u001b[0m\u001b[0;34m)\u001b[0m\u001b[0;34m:\u001b[0m\u001b[0;34m\u001b[0m\u001b[0m\n\u001b[1;32m   1020\u001b[0m     \u001b[0;32mtry\u001b[0m\u001b[0;34m:\u001b[0m\u001b[0;34m\u001b[0m\u001b[0m\n\u001b[0;32m-> 1021\u001b[0;31m       \u001b[0;32mreturn\u001b[0m \u001b[0mfn\u001b[0m\u001b[0;34m(\u001b[0m\u001b[0;34m*\u001b[0m\u001b[0margs\u001b[0m\u001b[0;34m)\u001b[0m\u001b[0;34m\u001b[0m\u001b[0m\n\u001b[0m\u001b[1;32m   1022\u001b[0m     \u001b[0;32mexcept\u001b[0m \u001b[0merrors\u001b[0m\u001b[0;34m.\u001b[0m\u001b[0mOpError\u001b[0m \u001b[0;32mas\u001b[0m \u001b[0me\u001b[0m\u001b[0;34m:\u001b[0m\u001b[0;34m\u001b[0m\u001b[0m\n\u001b[1;32m   1023\u001b[0m       \u001b[0mmessage\u001b[0m \u001b[0;34m=\u001b[0m \u001b[0mcompat\u001b[0m\u001b[0;34m.\u001b[0m\u001b[0mas_text\u001b[0m\u001b[0;34m(\u001b[0m\u001b[0me\u001b[0m\u001b[0;34m.\u001b[0m\u001b[0mmessage\u001b[0m\u001b[0;34m)\u001b[0m\u001b[0;34m\u001b[0m\u001b[0m\n",
      "\u001b[0;32m/Users/kdalwani/miniconda3/envs/carnd/lib/python3.5/site-packages/tensorflow/python/client/session.py\u001b[0m in \u001b[0;36m_run_fn\u001b[0;34m(session, feed_dict, fetch_list, target_list, options, run_metadata)\u001b[0m\n\u001b[1;32m   1001\u001b[0m         return tf_session.TF_Run(session, options,\n\u001b[1;32m   1002\u001b[0m                                  \u001b[0mfeed_dict\u001b[0m\u001b[0;34m,\u001b[0m \u001b[0mfetch_list\u001b[0m\u001b[0;34m,\u001b[0m \u001b[0mtarget_list\u001b[0m\u001b[0;34m,\u001b[0m\u001b[0;34m\u001b[0m\u001b[0m\n\u001b[0;32m-> 1003\u001b[0;31m                                  status, run_metadata)\n\u001b[0m\u001b[1;32m   1004\u001b[0m \u001b[0;34m\u001b[0m\u001b[0m\n\u001b[1;32m   1005\u001b[0m     \u001b[0;32mdef\u001b[0m \u001b[0m_prun_fn\u001b[0m\u001b[0;34m(\u001b[0m\u001b[0msession\u001b[0m\u001b[0;34m,\u001b[0m \u001b[0mhandle\u001b[0m\u001b[0;34m,\u001b[0m \u001b[0mfeed_dict\u001b[0m\u001b[0;34m,\u001b[0m \u001b[0mfetch_list\u001b[0m\u001b[0;34m)\u001b[0m\u001b[0;34m:\u001b[0m\u001b[0;34m\u001b[0m\u001b[0m\n",
      "\u001b[0;31mKeyboardInterrupt\u001b[0m: "
     ]
    }
   ],
   "source": [
    "### Train your model here.\n",
    "### Calculate and report the accuracy on the training and validation set.\n",
    "### Once a final model architecture is selected, \n",
    "### the accuracy on the test set should be calculated and reported as well.\n",
    "### Feel free to use as many code cells as needed.\n",
    "\n",
    "EPOCHS = 25\n",
    "with tf.Session() as sess:\n",
    "    sess.run(tf.global_variables_initializer())\n",
    "    num_examples = len(X_train)\n",
    "    \n",
    "    print(\"Training...\")\n",
    "    print()\n",
    "    for i in range(EPOCHS):\n",
    "        X_train, y_train = shuffle(X_train, y_train)\n",
    "        for offset in range(0, num_examples, BATCH_SIZE):\n",
    "            end = offset + BATCH_SIZE\n",
    "            batch_x, batch_y = X_train[offset:end], y_train[offset:end]\n",
    "            sess.run(training_operation, feed_dict={x: batch_x, y: batch_y})\n",
    "            \n",
    "        train_accuracy = evaluate(X_train, y_train)\n",
    "        validation_accuracy = evaluate(X_valid, y_valid)\n",
    "        print(\"EPOCH {} ...\".format(i+1))\n",
    "        print(\"Validation Accuracy = {:.3f}\".format(train_accuracy))\n",
    "        print(\"Validation Accuracy = {:.3f}\".format(validation_accuracy))\n",
    "        print()\n",
    "        \n",
    "    saver.save(sess, './lenet_traffic.model')\n",
    "    print(\"Model saved\")"
   ]
  },
  {
   "cell_type": "code",
   "execution_count": null,
   "metadata": {
    "collapsed": true,
    "deletable": true,
    "editable": true
   },
   "outputs": [],
   "source": [
    "# # Added regularized loss in LeNet function\n",
    "# # Added Xavier Initilization\n",
    "##"
   ]
  },
  {
   "cell_type": "code",
   "execution_count": 58,
   "metadata": {
    "collapsed": true
   },
   "outputs": [],
   "source": [
    "graph = tf.Graph()\n",
    "# rate = 0.001\n",
    "\n",
    "with graph.as_default():\n",
    "    x = tf.placeholder(tf.float32, (None, 32, 32, 3))\n",
    "    y = tf.placeholder(tf.int32, (None))\n",
    "    one_hot_y = tf.one_hot(y, n_classes)\n",
    "\n",
    "    beta = 0.01\n",
    "    logits, weights_layer_1, weights_layer_2, weights_layer_fc0, weights_layer_fc1,\\\n",
    "            weights_layer_fc2, weights_layer_fc3 = LeNetWithXavier(x)\n",
    "    cross_entropy = tf.nn.softmax_cross_entropy_with_logits(logits, one_hot_y)\n",
    "    loss_operation = tf.reduce_mean(cross_entropy \n",
    "            + beta * tf.nn.l2_loss(weights_layer_1) + beta * tf.nn.l2_loss(weights_layer_2)\n",
    "            + beta * tf.nn.l2_loss(weights_layer_fc0) + beta * tf.nn.l2_loss(weights_layer_fc1) \n",
    "            + beta * tf.nn.l2_loss(weights_layer_fc2) + beta * tf.nn.l2_loss(weights_layer_fc3))\n",
    "    \n",
    "    # Optimizer\n",
    "    global_step = tf.Variable(0)\n",
    "    learning_r = tf.placeholder(\"float\")\n",
    "    learning_rate = tf.train.exponential_decay(learning_r, global_step, 2000, 0.90)\n",
    "\n",
    "    optimizer = tf.train.AdamOptimizer(learning_rate = learning_rate)\n",
    "    training_operation = optimizer.minimize(loss_operation, global_step=global_step)\n",
    "\n",
    "    correct_prediction = tf.equal(tf.argmax(logits, 1), tf.argmax(one_hot_y, 1))\n",
    "    accuracy_operation = tf.reduce_mean(tf.cast(correct_prediction, tf.float32))\n",
    "    saver = tf.train.Saver()\n",
    "\n",
    "    def evaluate(X_data, y_data):\n",
    "        num_examples = len(X_data)\n",
    "        total_accuracy = 0\n",
    "        session = tf.get_default_session()\n",
    "#         with tf.Session(graph=graph) as session:\n",
    "        for offset in range(0, num_examples, BATCH_SIZE):\n",
    "            batch_x, batch_y = X_data[offset:offset+BATCH_SIZE], y_data[offset:offset+BATCH_SIZE]\n",
    "            accuracy = session.run(accuracy_operation, feed_dict={x: batch_x, y: batch_y})\n",
    "            total_accuracy += (accuracy * len(batch_x))\n",
    "        return total_accuracy / num_examples    \n"
   ]
  },
  {
   "cell_type": "code",
   "execution_count": null,
   "metadata": {
    "collapsed": false
   },
   "outputs": [
    {
     "name": "stdout",
     "output_type": "stream",
     "text": [
      "Training...\n",
      "\n",
      "EPOCH 1 ...\n",
      "Loss = 3.156\n",
      "TRain Accuracy = 0.743\n",
      "Validation Accuracy = 0.631\n",
      "\n",
      "EPOCH 2 ...\n",
      "Loss = 2.427\n",
      "TRain Accuracy = 0.889\n",
      "Validation Accuracy = 0.763\n",
      "\n",
      "EPOCH 3 ...\n",
      "Loss = 2.120\n",
      "TRain Accuracy = 0.934\n",
      "Validation Accuracy = 0.811\n",
      "\n",
      "EPOCH 4 ...\n",
      "Loss = 1.794\n",
      "TRain Accuracy = 0.946\n",
      "Validation Accuracy = 0.820\n",
      "\n",
      "EPOCH 5 ...\n",
      "Loss = 1.609\n",
      "TRain Accuracy = 0.970\n",
      "Validation Accuracy = 0.850\n",
      "\n",
      "EPOCH 6 ...\n",
      "Loss = 1.433\n",
      "TRain Accuracy = 0.973\n",
      "Validation Accuracy = 0.868\n",
      "\n",
      "EPOCH 7 ...\n",
      "Loss = 1.291\n",
      "TRain Accuracy = 0.981\n",
      "Validation Accuracy = 0.865\n",
      "\n",
      "EPOCH 8 ...\n",
      "Loss = 1.286\n",
      "TRain Accuracy = 0.984\n",
      "Validation Accuracy = 0.888\n",
      "\n",
      "EPOCH 9 ...\n",
      "Loss = 1.141\n",
      "TRain Accuracy = 0.980\n",
      "Validation Accuracy = 0.877\n",
      "\n",
      "EPOCH 10 ...\n",
      "Loss = 1.050\n",
      "TRain Accuracy = 0.977\n",
      "Validation Accuracy = 0.873\n",
      "\n",
      "EPOCH 11 ...\n",
      "Loss = 1.046\n",
      "TRain Accuracy = 0.978\n",
      "Validation Accuracy = 0.875\n",
      "\n",
      "EPOCH 12 ...\n",
      "Loss = 0.926\n",
      "TRain Accuracy = 0.989\n",
      "Validation Accuracy = 0.900\n",
      "\n",
      "EPOCH 13 ...\n",
      "Loss = 0.909\n",
      "TRain Accuracy = 0.990\n",
      "Validation Accuracy = 0.904\n",
      "\n",
      "EPOCH 14 ...\n",
      "Loss = 0.854\n",
      "TRain Accuracy = 0.989\n",
      "Validation Accuracy = 0.909\n",
      "\n",
      "EPOCH 15 ...\n",
      "Loss = 0.811\n",
      "TRain Accuracy = 0.986\n",
      "Validation Accuracy = 0.897\n",
      "\n"
     ]
    }
   ],
   "source": [
    "\n",
    "learning_rate_start = 0.001\n",
    "\n",
    "EPOCHS = 25\n",
    "with tf.Session(graph=graph) as session:\n",
    "    session.run(tf.global_variables_initializer())\n",
    "    num_examples = len(X_train)\n",
    "    \n",
    "    print(\"Training...\")\n",
    "    print()\n",
    "    for i in range(EPOCHS):\n",
    "        X_train, y_train = shuffle(X_train, y_train)\n",
    "        for offset in range(0, num_examples, BATCH_SIZE):\n",
    "            end = offset + BATCH_SIZE\n",
    "            batch_x, batch_y = X_train[offset:end], y_train[offset:end]\n",
    "            _, loss = session.run([training_operation, loss_operation], \n",
    "                                  feed_dict={x: batch_x, y: batch_y, \n",
    "                                            learning_r: learning_rate_start})\n",
    "            \n",
    "        train_accuracy = evaluate(X_train, y_train)\n",
    "        validation_accuracy = evaluate(X_valid, y_valid)\n",
    "        print(\"EPOCH {} ...\".format(i+1))\n",
    "        print(\"Loss = {:.3f}\".format(loss))\n",
    "        print(\"TRain Accuracy = {:.3f}\".format(train_accuracy))\n",
    "        print(\"Validation Accuracy = {:.3f}\".format(validation_accuracy))\n",
    "        print()\n",
    "        \n",
    "#     saver.save(session, './lenet_traffic.model')\n",
    "    print(\"Model saved\")\n",
    "    "
   ]
  },
  {
   "cell_type": "code",
   "execution_count": null,
   "metadata": {
    "collapsed": true,
    "deletable": true,
    "editable": true
   },
   "outputs": [],
   "source": [
    "\n",
    "# #   Training...\n",
    "\n",
    "# # EPOCH 1 ...\n",
    "# # Validation Accuracy = 0.539\n",
    "\n",
    "# # EPOCH 2 ...\n",
    "# # Validation Accuracy = 0.765\n",
    "\n",
    "# # EPOCH 3 ...\n",
    "# # Validation Accuracy = 0.809\n",
    "\n",
    "# # EPOCH 4 ...\n",
    "# # Validation Accuracy = 0.826\n",
    "\n",
    "# # EPOCH 5 ...\n",
    "# # Validation Accuracy = 0.847\n",
    "\n",
    "# # EPOCH 6 ...\n",
    "# # Validation Accuracy = 0.859\n",
    "\n",
    "# # EPOCH 7 ...\n",
    "# # Validation Accuracy = 0.861\n",
    "\n",
    "# # EPOCH 8 ...\n",
    "# # Validation Accuracy = 0.864\n",
    "\n",
    "# # EPOCH 9 ...\n",
    "# # Validation Accuracy = 0.874\n",
    "\n",
    "# # EPOCH 10 ...\n",
    "# # Validation Accuracy = 0.859\n",
    "\n",
    "# # EPOCH 11 ...\n",
    "# # Validation Accuracy = 0.872\n",
    "\n",
    "# # EPOCH 12 ...\n",
    "# # Validation Accuracy = 0.881\n",
    "\n",
    "# # With 3 layers\n",
    "# Training...\n",
    "\n",
    "# EPOCH 1 ...\n",
    "# Validation Accuracy = 0.743\n",
    "\n",
    "# EPOCH 2 ...\n",
    "# Validation Accuracy = 0.847\n",
    "\n",
    "# EPOCH 3 ...\n",
    "# Validation Accuracy = 0.871\n",
    "\n",
    "# EPOCH 4 ...\n",
    "# Validation Accuracy = 0.890\n",
    "\n",
    "# EPOCH 5 ...\n",
    "# Validation Accuracy = 0.891\n",
    "\n",
    "# EPOCH 6 ...\n",
    "# Validation Accuracy = 0.890\n",
    "\n",
    "# EPOCH 7 ...\n",
    "# Validation Accuracy = 0.903\n",
    "\n",
    "# EPOCH 8 ...\n",
    "# Validation Accuracy = 0.904\n",
    "\n",
    "# EPOCH 9 ...\n",
    "# Validation Accuracy = 0.903\n",
    "\n",
    "# EPOCH 10 ...\n",
    "# Validation Accuracy = 0.901\n",
    "\n",
    "# EPOCH 11 ...\n",
    "# Validation Accuracy = 0.901\n",
    "\n",
    "# EPOCH 12 ...\n",
    "# Validation Accuracy = 0.920\n",
    "\n",
    "# EPOCH 13 ...\n",
    "# Validation Accuracy = 0.922\n",
    "\n",
    "# EPOCH 14 ...\n",
    "# Validation Accuracy = 0.920\n",
    "\n",
    "# EPOCH 15 ...\n",
    "# Validation Accuracy = 0.913"
   ]
  },
  {
   "cell_type": "markdown",
   "metadata": {
    "deletable": true,
    "editable": true
   },
   "source": [
    "---\n",
    "\n",
    "## Step 3: Test a Model on New Images\n",
    "\n",
    "To give yourself more insight into how your model is working, download at least five pictures of German traffic signs from the web and use your model to predict the traffic sign type.\n",
    "\n",
    "You may find `signnames.csv` useful as it contains mappings from the class id (integer) to the actual sign name."
   ]
  },
  {
   "cell_type": "markdown",
   "metadata": {
    "deletable": true,
    "editable": true
   },
   "source": [
    "### Load and Output the Images"
   ]
  },
  {
   "cell_type": "code",
   "execution_count": null,
   "metadata": {
    "collapsed": true,
    "deletable": true,
    "editable": true
   },
   "outputs": [],
   "source": [
    "### Load the images and plot them here.\n",
    "### Feel free to use as many code cells as needed."
   ]
  },
  {
   "cell_type": "markdown",
   "metadata": {
    "deletable": true,
    "editable": true
   },
   "source": [
    "### Predict the Sign Type for Each Image"
   ]
  },
  {
   "cell_type": "code",
   "execution_count": 3,
   "metadata": {
    "collapsed": true,
    "deletable": true,
    "editable": true
   },
   "outputs": [],
   "source": [
    "### Run the predictions here and use the model to output the prediction for each image.\n",
    "### Make sure to pre-process the images with the same pre-processing pipeline used earlier.\n",
    "### Feel free to use as many code cells as needed."
   ]
  },
  {
   "cell_type": "markdown",
   "metadata": {
    "deletable": true,
    "editable": true
   },
   "source": [
    "### Analyze Performance"
   ]
  },
  {
   "cell_type": "code",
   "execution_count": 4,
   "metadata": {
    "collapsed": true,
    "deletable": true,
    "editable": true
   },
   "outputs": [],
   "source": [
    "### Calculate the accuracy for these 5 new images. \n",
    "### For example, if the model predicted 1 out of 5 signs correctly, it's 20% accurate on these new images."
   ]
  },
  {
   "cell_type": "markdown",
   "metadata": {
    "deletable": true,
    "editable": true
   },
   "source": [
    "### Output Top 5 Softmax Probabilities For Each Image Found on the Web"
   ]
  },
  {
   "cell_type": "markdown",
   "metadata": {
    "deletable": true,
    "editable": true
   },
   "source": [
    "For each of the new images, print out the model's softmax probabilities to show the **certainty** of the model's predictions (limit the output to the top 5 probabilities for each image). [`tf.nn.top_k`](https://www.tensorflow.org/versions/r0.12/api_docs/python/nn.html#top_k) could prove helpful here. \n",
    "\n",
    "The example below demonstrates how tf.nn.top_k can be used to find the top k predictions for each image.\n",
    "\n",
    "`tf.nn.top_k` will return the values and indices (class ids) of the top k predictions. So if k=3, for each sign, it'll return the 3 largest probabilities (out of a possible 43) and the correspoding class ids.\n",
    "\n",
    "Take this numpy array as an example. The values in the array represent predictions. The array contains softmax probabilities for five candidate images with six possible classes. `tk.nn.top_k` is used to choose the three classes with the highest probability:\n",
    "\n",
    "```\n",
    "# (5, 6) array\n",
    "a = np.array([[ 0.24879643,  0.07032244,  0.12641572,  0.34763842,  0.07893497,\n",
    "         0.12789202],\n",
    "       [ 0.28086119,  0.27569815,  0.08594638,  0.0178669 ,  0.18063401,\n",
    "         0.15899337],\n",
    "       [ 0.26076848,  0.23664738,  0.08020603,  0.07001922,  0.1134371 ,\n",
    "         0.23892179],\n",
    "       [ 0.11943333,  0.29198961,  0.02605103,  0.26234032,  0.1351348 ,\n",
    "         0.16505091],\n",
    "       [ 0.09561176,  0.34396535,  0.0643941 ,  0.16240774,  0.24206137,\n",
    "         0.09155967]])\n",
    "```\n",
    "\n",
    "Running it through `sess.run(tf.nn.top_k(tf.constant(a), k=3))` produces:\n",
    "\n",
    "```\n",
    "TopKV2(values=array([[ 0.34763842,  0.24879643,  0.12789202],\n",
    "       [ 0.28086119,  0.27569815,  0.18063401],\n",
    "       [ 0.26076848,  0.23892179,  0.23664738],\n",
    "       [ 0.29198961,  0.26234032,  0.16505091],\n",
    "       [ 0.34396535,  0.24206137,  0.16240774]]), indices=array([[3, 0, 5],\n",
    "       [0, 1, 4],\n",
    "       [0, 5, 1],\n",
    "       [1, 3, 5],\n",
    "       [1, 4, 3]], dtype=int32))\n",
    "```\n",
    "\n",
    "Looking just at the first row we get `[ 0.34763842,  0.24879643,  0.12789202]`, you can confirm these are the 3 largest probabilities in `a`. You'll also notice `[3, 0, 5]` are the corresponding indices."
   ]
  },
  {
   "cell_type": "code",
   "execution_count": 6,
   "metadata": {
    "collapsed": true,
    "deletable": true,
    "editable": true
   },
   "outputs": [],
   "source": [
    "### Print out the top five softmax probabilities for the predictions on the German traffic sign images found on the web. \n",
    "### Feel free to use as many code cells as needed."
   ]
  },
  {
   "cell_type": "markdown",
   "metadata": {
    "deletable": true,
    "editable": true
   },
   "source": [
    "---\n",
    "\n",
    "## Step 4: Visualize the Neural Network's State with Test Images\n",
    "\n",
    " This Section is not required to complete but acts as an additional excersise for understaning the output of a neural network's weights. While neural networks can be a great learning device they are often referred to as a black box. We can understand what the weights of a neural network look like better by plotting their feature maps. After successfully training your neural network you can see what it's feature maps look like by plotting the output of the network's weight layers in response to a test stimuli image. From these plotted feature maps, it's possible to see what characteristics of an image the network finds interesting. For a sign, maybe the inner network feature maps react with high activation to the sign's boundary outline or to the contrast in the sign's painted symbol.\n",
    "\n",
    " Provided for you below is the function code that allows you to get the visualization output of any tensorflow weight layer you want. The inputs to the function should be a stimuli image, one used during training or a new one you provided, and then the tensorflow variable name that represents the layer's state during the training process, for instance if you wanted to see what the [LeNet lab's](https://classroom.udacity.com/nanodegrees/nd013/parts/fbf77062-5703-404e-b60c-95b78b2f3f9e/modules/6df7ae49-c61c-4bb2-a23e-6527e69209ec/lessons/601ae704-1035-4287-8b11-e2c2716217ad/concepts/d4aca031-508f-4e0b-b493-e7b706120f81) feature maps looked like for it's second convolutional layer you could enter conv2 as the tf_activation variable.\n",
    "\n",
    "For an example of what feature map outputs look like, check out NVIDIA's results in their paper [End-to-End Deep Learning for Self-Driving Cars](https://devblogs.nvidia.com/parallelforall/deep-learning-self-driving-cars/) in the section Visualization of internal CNN State. NVIDIA was able to show that their network's inner weights had high activations to road boundary lines by comparing feature maps from an image with a clear path to one without. Try experimenting with a similar test to show that your trained network's weights are looking for interesting features, whether it's looking at differences in feature maps from images with or without a sign, or even what feature maps look like in a trained network vs a completely untrained one on the same sign image.\n",
    "\n",
    "<figure>\n",
    " <img src=\"visualize_cnn.png\" width=\"380\" alt=\"Combined Image\" />\n",
    " <figcaption>\n",
    " <p></p> \n",
    " <p style=\"text-align: center;\"> Your output should look something like this (above)</p> \n",
    " </figcaption>\n",
    "</figure>\n",
    " <p></p> \n"
   ]
  },
  {
   "cell_type": "code",
   "execution_count": null,
   "metadata": {
    "collapsed": true,
    "deletable": true,
    "editable": true
   },
   "outputs": [],
   "source": [
    "### Visualize your network's feature maps here.\n",
    "### Feel free to use as many code cells as needed.\n",
    "\n",
    "# image_input: the test image being fed into the network to produce the feature maps\n",
    "# tf_activation: should be a tf variable name used during your training procedure that represents the calculated state of a specific weight layer\n",
    "# activation_min/max: can be used to view the activation contrast in more detail, by default matplot sets min and max to the actual min and max values of the output\n",
    "# plt_num: used to plot out multiple different weight feature map sets on the same block, just extend the plt number for each new feature map entry\n",
    "\n",
    "def outputFeatureMap(image_input, tf_activation, activation_min=-1, activation_max=-1 ,plt_num=1):\n",
    "    # Here make sure to preprocess your image_input in a way your network expects\n",
    "    # with size, normalization, ect if needed\n",
    "    # image_input =\n",
    "    # Note: x should be the same name as your network's tensorflow data placeholder variable\n",
    "    # If you get an error tf_activation is not defined it maybe having trouble accessing the variable from inside a function\n",
    "    activation = tf_activation.eval(session=sess,feed_dict={x : image_input})\n",
    "    featuremaps = activation.shape[3]\n",
    "    plt.figure(plt_num, figsize=(15,15))\n",
    "    for featuremap in range(featuremaps):\n",
    "        plt.subplot(6,8, featuremap+1) # sets the number of feature maps to show on each row and column\n",
    "        plt.title('FeatureMap ' + str(featuremap)) # displays the feature map number\n",
    "        if activation_min != -1 & activation_max != -1:\n",
    "            plt.imshow(activation[0,:,:, featuremap], interpolation=\"nearest\", vmin =activation_min, vmax=activation_max, cmap=\"gray\")\n",
    "        elif activation_max != -1:\n",
    "            plt.imshow(activation[0,:,:, featuremap], interpolation=\"nearest\", vmax=activation_max, cmap=\"gray\")\n",
    "        elif activation_min !=-1:\n",
    "            plt.imshow(activation[0,:,:, featuremap], interpolation=\"nearest\", vmin=activation_min, cmap=\"gray\")\n",
    "        else:\n",
    "            plt.imshow(activation[0,:,:, featuremap], interpolation=\"nearest\", cmap=\"gray\")"
   ]
  },
  {
   "cell_type": "markdown",
   "metadata": {
    "deletable": true,
    "editable": true
   },
   "source": [
    "### Question 9\n",
    "\n",
    "Discuss how you used the visual output of your trained network's feature maps to show that it had learned to look for interesting characteristics in traffic sign images\n"
   ]
  },
  {
   "cell_type": "markdown",
   "metadata": {
    "deletable": true,
    "editable": true
   },
   "source": [
    "**Answer:**"
   ]
  },
  {
   "cell_type": "markdown",
   "metadata": {
    "deletable": true,
    "editable": true
   },
   "source": [
    "> **Note**: Once you have completed all of the code implementations and successfully answered each question above, you may finalize your work by exporting the iPython Notebook as an HTML document. You can do this by using the menu above and navigating to  \\n\",\n",
    "    \"**File -> Download as -> HTML (.html)**. Include the finished document along with this notebook as your submission."
   ]
  },
  {
   "cell_type": "markdown",
   "metadata": {
    "deletable": true,
    "editable": true
   },
   "source": [
    "### Project Writeup\n",
    "\n",
    "Once you have completed the code implementation, document your results in a project writeup using this [template](https://github.com/udacity/CarND-Traffic-Sign-Classifier-Project/blob/master/writeup_template.md) as a guide. The writeup can be in a markdown or pdf file. "
   ]
  }
 ],
 "metadata": {
  "anaconda-cloud": {},
  "kernelspec": {
   "display_name": "Python 3",
   "language": "python",
   "name": "python3"
  },
  "language_info": {
   "codemirror_mode": {
    "name": "ipython",
    "version": 3
   },
   "file_extension": ".py",
   "mimetype": "text/x-python",
   "name": "python",
   "nbconvert_exporter": "python",
   "pygments_lexer": "ipython3",
   "version": "3.5.2"
  },
  "widgets": {
   "state": {},
   "version": "1.1.2"
  }
 },
 "nbformat": 4,
 "nbformat_minor": 1
}
