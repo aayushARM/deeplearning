{
 "cells": [
  {
   "cell_type": "code",
   "execution_count": 1,
   "metadata": {
    "collapsed": true
   },
   "outputs": [],
   "source": [
    "import numpy as np\n",
    "import cv2\n",
    "import glob\n",
    "import matplotlib.pyplot as plt\n",
    "%matplotlib inline"
   ]
  },
  {
   "cell_type": "markdown",
   "metadata": {},
   "source": [
    "# 1. Step to calibrate camera\n"
   ]
  },
  {
   "cell_type": "code",
   "execution_count": 21,
   "metadata": {
    "collapsed": true
   },
   "outputs": [],
   "source": [
    "def get_chess_image_point_corner_pts(num_row, num_col, glob_path):\n",
    "    # prepare object points, like (0,0,0), (1,0,0), (2,0,0) ....,(6,5,0)\n",
    "    objp = np.zeros((num_col*num_row,3), np.float32)\n",
    "    objp[:,:2] = np.mgrid[0:num_row, 0:num_col].T.reshape(-1,2)\n",
    "    # Arrays to store object points and image points from all the images.\n",
    "    objpoints = [] # 3d points in real world space\n",
    "    imgpoints = [] # 2d points in image plane.\n",
    "\n",
    "    # Make a list of calibration images\n",
    "    images = glob.glob(glob_path)\n",
    "    print (\"found \" + str(len(images)) + \" image\")\n",
    "    # Step through the list and search for chessboard corners\n",
    "    for idx, fname in enumerate(images):\n",
    "        print (\"Processing \" + fname, end = ', ')\n",
    "        img = cv2.imread(fname)\n",
    "        gray = cv2.cvtColor(img, cv2.COLOR_BGR2GRAY)\n",
    "\n",
    "        # Find the chessboard corners\n",
    "        ret, corners = cv2.findChessboardCorners(gray, (num_row, num_col), None)\n",
    "\n",
    "        # If found, add object points, image points\n",
    "        if ret == True:\n",
    "            print (\"found corner:\" + str(num_row) + \"x\" + str(num_col))\n",
    "            objpoints.append(objp)\n",
    "            imgpoints.append(corners)\n",
    "\n",
    "            # Draw and display the corners\n",
    "            cv2.drawChessboardCorners(img, (num_row ,num_col), corners, ret)\n",
    "            cv2.imshow('img', img)\n",
    "            cv2.waitKey(500)\n",
    "\n",
    "    cv2.destroyAllWindows()    \n",
    "    \n",
    "#def calibate_camera(glob_path, ):"
   ]
  },
  {
   "cell_type": "code",
   "execution_count": 22,
   "metadata": {
    "collapsed": true
   },
   "outputs": [],
   "source": [
    "glob_path = 'camera_cal/calibration*.jpg'"
   ]
  },
  {
   "cell_type": "code",
   "execution_count": 23,
   "metadata": {
    "collapsed": false
   },
   "outputs": [
    {
     "name": "stdout",
     "output_type": "stream",
     "text": [
      "found 20 image\n",
      "Processing camera_cal/calibration1.jpg, Processing camera_cal/calibration10.jpg, found corner:9x6\n",
      "Processing camera_cal/calibration11.jpg, found corner:9x6\n",
      "Processing camera_cal/calibration12.jpg, found corner:9x6\n",
      "Processing camera_cal/calibration13.jpg, found corner:9x6\n",
      "Processing camera_cal/calibration14.jpg, found corner:9x6\n",
      "Processing camera_cal/calibration15.jpg, found corner:9x6\n",
      "Processing camera_cal/calibration16.jpg, found corner:9x6\n",
      "Processing camera_cal/calibration17.jpg, found corner:9x6\n",
      "Processing camera_cal/calibration18.jpg, found corner:9x6\n",
      "Processing camera_cal/calibration19.jpg, found corner:9x6\n",
      "Processing camera_cal/calibration2.jpg, found corner:9x6\n",
      "Processing camera_cal/calibration20.jpg, found corner:9x6\n",
      "Processing camera_cal/calibration3.jpg, found corner:9x6\n",
      "Processing camera_cal/calibration4.jpg, Processing camera_cal/calibration5.jpg, Processing camera_cal/calibration6.jpg, found corner:9x6\n",
      "Processing camera_cal/calibration7.jpg, found corner:9x6\n",
      "Processing camera_cal/calibration8.jpg, found corner:9x6\n",
      "Processing camera_cal/calibration9.jpg, found corner:9x6\n"
     ]
    }
   ],
   "source": [
    "get_chess_image_point_corner_pts(9, 6, glob_path)"
   ]
  },
  {
   "cell_type": "code",
   "execution_count": null,
   "metadata": {
    "collapsed": true
   },
   "outputs": [],
   "source": []
  }
 ],
 "metadata": {
  "kernelspec": {
   "display_name": "Python 3",
   "language": "python",
   "name": "python3"
  },
  "language_info": {
   "codemirror_mode": {
    "name": "ipython",
    "version": 3
   },
   "file_extension": ".py",
   "mimetype": "text/x-python",
   "name": "python",
   "nbconvert_exporter": "python",
   "pygments_lexer": "ipython3",
   "version": "3.5.2"
  },
  "widgets": {
   "state": {},
   "version": "1.1.2"
  }
 },
 "nbformat": 4,
 "nbformat_minor": 2
}
